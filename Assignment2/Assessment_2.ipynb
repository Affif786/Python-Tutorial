{
 "cells": [
  {
   "cell_type": "markdown",
   "metadata": {},
   "source": [
    "# Task1"
   ]
  },
  {
   "cell_type": "code",
   "execution_count": 2,
   "metadata": {},
   "outputs": [
    {
     "data": {
      "text/plain": [
       "55"
      ]
     },
     "execution_count": 2,
     "metadata": {},
     "output_type": "execute_result"
    }
   ],
   "source": [
    "#Question_1.1    MyReduceFunction\n",
    "def sum(a, b):\n",
    "    return a + b\n",
    "\n",
    "def my_reduce(func, seq):\n",
    "    first = seq[0]\n",
    "    for i in seq[1 : ]:\n",
    "        first = func(first, i)\n",
    "    return first\n",
    "\n",
    "my_reduce(sum, [1, 2, 3, 4, 5, 6, 7, 8, 9, 10])"
   ]
  },
  {
   "cell_type": "code",
   "execution_count": 6,
   "metadata": {},
   "outputs": [
    {
     "data": {
      "text/plain": [
       "[1, 3, 5, 7, 9]"
      ]
     },
     "execution_count": 6,
     "metadata": {},
     "output_type": "execute_result"
    }
   ],
   "source": [
    "#Question_1.2\n",
    "def is_even(x):\n",
    "    if x % 2 == 0:\n",
    "        return False\n",
    "    else:\n",
    "        return True\n",
    "\n",
    "def my_filter(func, seq):\n",
    "    filtered = []\n",
    "    for i in seq:\n",
    "        if is_even(i) is True:\n",
    "            filtered.append(i)\n",
    "    return filtered\n",
    "\n",
    "my_filter(is_even, range(10))"
   ]
  },
  {
   "cell_type": "code",
   "execution_count": 12,
   "metadata": {},
   "outputs": [
    {
     "name": "stdout",
     "output_type": "stream",
     "text": [
      "['A', 'C', 'A', 'D', 'G', 'I', 'L', 'D']\n",
      "['x', 'xx', 'xxx', 'xxxx', 'y', 'yy', 'yyy', 'yyyy', 'z', 'zz', 'zzz', 'zzzz']\n",
      "['x', 'y', 'z', 'xx', 'yy', 'zz', 'xxx', 'yyy', 'zzz', 'xxxx', 'yyyy', 'zzzz']\n",
      "[[2], [3], [4], [3], [4], [5], [4], [5], [6]]\n",
      "[[2, 3, 4, 5], [3, 4, 5, 6], [4, 5, 6, 7], [5, 6, 7, 8]]\n",
      "[(1, 1), (1, 2), (1, 3), (2, 1), (2, 2), (2, 3), (3, 1), (3, 2), (3, 3)]\n"
     ]
    }
   ],
   "source": [
    "#Question_2\n",
    "literal = \"ACADGILD\"\n",
    "list_variable = [x for x in literal]\n",
    "print(list_variable)\n",
    "\n",
    "literal = \"xyz\"\n",
    "list_variable = [i * num for i in literal for num in range(1, 5)]\n",
    "print(list_variable)\n",
    "\n",
    "list_variable = [i * num for num in range(1, 5) for i in literal]\n",
    "print(list_variable)\n",
    "\n",
    "literal = [2, 3, 4]\n",
    "list_variable = [[i + num] for num in literal for i in range(0, 3)]\n",
    "print(list_variable)\n",
    "\n",
    "literal = [2, 3, 4, 5]\n",
    "list_variable = [[i + num for i in literal] for num in range(0, 4)]\n",
    "print(list_variable)\n",
    "\n",
    "literal = [1, 2, 3]\n",
    "list_variable = [(i, num) for i in literal for num in range(1, 4)]\n",
    "print(list_variable)"
   ]
  },
  {
   "cell_type": "code",
   "execution_count": 14,
   "metadata": {},
   "outputs": [
    {
     "data": {
      "text/plain": [
       "'Machine Learning'"
      ]
     },
     "execution_count": 14,
     "metadata": {},
     "output_type": "execute_result"
    }
   ],
   "source": [
    "#Question_3\n",
    "def longest_word(seq):\n",
    "    maxi = 0\n",
    "    for i in seq:\n",
    "        word_size = len(i)\n",
    "        if word_size > maxi:\n",
    "            longest_word =i\n",
    "            maxi = word_size\n",
    "    return longest_word\n",
    "\n",
    "longest_word([\"Constant\", \"Data Science\", \"Machine Learning\"])"
   ]
  },
  {
   "cell_type": "markdown",
   "metadata": {},
   "source": [
    "# Task 2"
   ]
  },
  {
   "cell_type": "code",
   "execution_count": 17,
   "metadata": {},
   "outputs": [
    {
     "name": "stdout",
     "output_type": "stream",
     "text": [
      "Initialised Utils Child class\n",
      "Initialised Triagle super class [3,4,5]\n",
      "6.0\n",
      "Area of triangle = 6.0\n"
     ]
    }
   ],
   "source": [
    "#Question_1.1\n",
    "class Triangle:\n",
    "    def __init__(self, side1, side2, side3):\n",
    "        self.side1 = side1\n",
    "        self.side2 = side2\n",
    "        self.side3 = side3\n",
    "        print (\"Initialised Triagle super class [\" +  str(side1) + \",\" + str(side2) + \",\" + str(side3) + \"]\")\n",
    "\n",
    "class Triangle_Utilities(Triangle):\n",
    "    def __init__(self, side1, side2, side3):\n",
    "        print (\"Initialised Utils Child class\" )\n",
    "        super(Triangle_Utilities, self).__init__(side1, side2, side3)\n",
    "    def get_area(self):\n",
    "        s = (self.side1 + self.side2 + self.side3)/2\n",
    "        print (str(s))\n",
    "        return (s*(s-self.side1)*(s-self.side2)*(s-self.side3))**0.5\n",
    "\n",
    "instance = Triangle_Utilities(3,4,5)\n",
    "print (\"Area of triangle = \" + str(instance.get_area()) )"
   ]
  },
  {
   "cell_type": "code",
   "execution_count": 19,
   "metadata": {},
   "outputs": [
    {
     "name": "stdout",
     "output_type": "stream",
     "text": [
      "Word List initialised.\n",
      "['learning', 'data science.']\n"
     ]
    }
   ],
   "source": [
    "##Question_1.2\n",
    "class Myfilter:\n",
    "    def __init__(self, word_seq):\n",
    "        self.word_seq = word_seq\n",
    "        print(\"Word List initialised.\")\n",
    "    def filter_long_words(self, n):\n",
    "        return list(filter(lambda x : len(x) > n, self.word_seq))\n",
    "\n",
    "instance = Myfilter([\"I\", \"am\", \"learning\", \"data science.\"])\n",
    "print(str(instance.filter_long_words(2)))"
   ]
  },
  {
   "cell_type": "code",
   "execution_count": 20,
   "metadata": {},
   "outputs": [
    {
     "data": {
      "text/plain": [
       "[2, 3, 4]"
      ]
     },
     "execution_count": 20,
     "metadata": {},
     "output_type": "execute_result"
    }
   ],
   "source": [
    "#Question_2.1\n",
    "def my_func(seq):\n",
    "    maps = []\n",
    "    for i in seq:\n",
    "        maps.append(len(i))\n",
    "    return maps\n",
    "my_func([\"ab\", \"cde\", \"erty\"])"
   ]
  },
  {
   "cell_type": "code",
   "execution_count": 22,
   "metadata": {},
   "outputs": [
    {
     "name": "stdout",
     "output_type": "stream",
     "text": [
      "['i', 'e', 'u', 'o']\n"
     ]
    }
   ],
   "source": [
    "#Question_2.2\n",
    "def is_vowel(seq):\n",
    "    vowel = ['a', 'e', 'i', 'o', 'u']\n",
    "    for i in seq:\n",
    "        if i in vowel:\n",
    "            return True\n",
    "        else:\n",
    "            return False\n",
    "literal = ['i', 'n', 'e', 'u', 'r', 'o', 'n']\n",
    "result = list(filter(is_vowel, literal))\n",
    "print(result)"
   ]
  },
  {
   "cell_type": "code",
   "execution_count": null,
   "metadata": {},
   "outputs": [],
   "source": []
  }
 ],
 "metadata": {
  "kernelspec": {
   "display_name": "Python 3",
   "language": "python",
   "name": "python3"
  },
  "language_info": {
   "codemirror_mode": {
    "name": "ipython",
    "version": 3
   },
   "file_extension": ".py",
   "mimetype": "text/x-python",
   "name": "python",
   "nbconvert_exporter": "python",
   "pygments_lexer": "ipython3",
   "version": "3.7.3"
  }
 },
 "nbformat": 4,
 "nbformat_minor": 2
}
